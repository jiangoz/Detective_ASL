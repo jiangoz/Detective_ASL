{
 "metadata": {
  "language_info": {
   "codemirror_mode": {
    "name": "ipython",
    "version": 3
   },
   "file_extension": ".py",
   "mimetype": "text/x-python",
   "name": "python",
   "nbconvert_exporter": "python",
   "pygments_lexer": "ipython3",
   "version": "3.8.0"
  },
  "orig_nbformat": 2,
  "kernelspec": {
   "name": "python380jvsc74a57bd0e3a5ce5917e43e1c30af22e489fc73cfc8c0517e9266d345d072f6f87e23686d",
   "display_name": "Python 3.8.0 64-bit"
  },
  "metadata": {
   "interpreter": {
    "hash": "e3a5ce5917e43e1c30af22e489fc73cfc8c0517e9266d345d072f6f87e23686d"
   }
  }
 },
 "nbformat": 4,
 "nbformat_minor": 2,
 "cells": [
  {
   "cell_type": "code",
   "execution_count": 6,
   "metadata": {},
   "outputs": [],
   "source": [
    "import numpy as np\n",
    "import pandas as pd\n",
    "import matplotlib.pyplot as plt\n",
    "import seaborn as sns\n",
    "from sklearn.model_selection import train_test_split\n",
    "import cv2\n",
    "import os\n",
    "import keras"
   ]
  },
  {
   "cell_type": "code",
   "execution_count": 7,
   "metadata": {},
   "outputs": [],
   "source": [
    "train_dir = './data/asl_alphabet_train'\n",
    "test_dir = './data/asl_alphabet_test'"
   ]
  },
  {
   "cell_type": "code",
   "execution_count": 8,
   "metadata": {},
   "outputs": [],
   "source": [
    "# dict for mapping an integer for each class/label\n",
    "labels_dict = {'A':0,'B':1,'C':2,'D':3,'E':4,'F':5,'G':6,'H':7,'I':8,'J':9,'K':10,'L':11,'M':12,\n",
    "                   'N':13,'O':14,'P':15,'Q':16,'R':17,'S':18,'T':19,'U':20,'V':21,'W':22,'X':23,'Y':24,\n",
    "                   'Z':25,'space':26,'del':27,'nothing':28}\n",
    "\n",
    "def load_data():\n",
    "    images_list = []\n",
    "    labels_list = []\n",
    "    size = (32,32)\n",
    "    \n",
    "    for folder in os.listdir(train_dir):\n",
    "        for imgfile in os.listdir(f'{train_dir}/{folder}'):\n",
    "            curr_img = cv2.imread(f'{train_dir}/{folder}/{imgfile}')\n",
    "            # resize image\n",
    "            curr_img = cv2.resize(curr_img, size)\n",
    "            # store into images and labels lists\n",
    "            images_list.append(curr_img)\n",
    "            labels_list.append(labels_dict[folder])\n",
    "\n",
    "    # make np array\n",
    "    images_arr = np.array(images_list)\n",
    "    # normalize values\n",
    "    images_arr = images_arr.astype('float32')/255.0\n",
    "    # one hot encode labels\n",
    "    labels_arr = keras.utils.to_categorical(labels_list)\n",
    "    # split into training and testing data\n",
    "    x_train, x_test, y_train, y_test = train_test_split(images_arr, labels_arr, test_size = 0.1)\n",
    "    \n",
    "    print(f'Loaded {len(x_train)} images for training')\n",
    "    print(f'Training data shape: {x_train.shape}')\n",
    "    print(f'Training labels shape: {y_train.shape}\\n')\n",
    "    print(f'Loaded {len(x_test)} images for testing')\n",
    "    print(f'Testing data shape: {x_test.shape}')\n",
    "    print(f'Testing labels shape: {y_test.shape}')\n",
    "    \n",
    "    return x_train, x_test, y_train, y_test"
   ]
  },
  {
   "cell_type": "code",
   "execution_count": 9,
   "metadata": {},
   "outputs": [
    {
     "output_type": "stream",
     "name": "stdout",
     "text": [
      "Loaded 78300 images for training\nTraining data shape: (78300, 32, 32, 3)\nTraining labels shape: (78300, 29)\n\nLoaded 8700 images for testing\nTesting data shape: (8700, 32, 32, 3)\nTesting labels shape: (8700, 29)\n"
     ]
    }
   ],
   "source": [
    "x_train, x_test, y_train, y_test = load_data()"
   ]
  }
 ]
}