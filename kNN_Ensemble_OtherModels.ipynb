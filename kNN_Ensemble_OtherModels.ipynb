{
 "metadata": {
  "language_info": {
   "codemirror_mode": {
    "name": "ipython",
    "version": 3
   },
   "file_extension": ".py",
   "mimetype": "text/x-python",
   "name": "python",
   "nbconvert_exporter": "python",
   "pygments_lexer": "ipython3",
   "version": "3.7.6-final"
  },
  "orig_nbformat": 2,
  "kernelspec": {
   "name": "python3",
   "display_name": "Python 3"
  }
 },
 "nbformat": 4,
 "nbformat_minor": 2,
 "cells": [
  {
   "source": [
    "import numpy as np\n",
    "import pandas as pd\n",
    "import matplotlib.pyplot as plt\n",
    "import seaborn as sns\n",
    "from sklearn.model_selection import train_test_split\n",
    "import cv2\n",
    "import os\n",
    "import keras\n",
    "from sklearn.neighbors import KNeighborsClassifier\n",
    "from sklearn.metrics import confusion_matrix\n",
    "from sklearn import metric\n",
    "from sklearn.metrics import classification_report\n",
    "from sklearn.ensemble import RandomForestClassifier\n",
    "from sklearn.tree import DecisionTreeClassifier\n",
    "from sklearn.ensemble import AdaBoostClassifier\n"
   ],
   "cell_type": "code",
   "metadata": {},
   "execution_count": null,
   "outputs": []
  },
  {
   "cell_type": "code",
   "execution_count": null,
   "metadata": {},
   "outputs": [],
   "source": [
    "train_dir = './data/asl_alphabet_train'\n",
    "test_dir = './data/asl_alphabet_test'"
   ]
  },
  {
   "cell_type": "code",
   "execution_count": null,
   "metadata": {},
   "outputs": [],
   "source": [
    "# dict for mapping an integer for each class/label\n",
    "labels_dict = {'A':0,'B':1,'C':2,'D':3,'E':4,'F':5,'G':6,'H':7,'I':8,'J':9,'K':10,'L':11,'M':12,\n",
    "                   'N':13,'O':14,'P':15,'Q':16,'R':17,'S':18,'T':19,'U':20,'V':21,'W':22,'X':23,'Y':24,\n",
    "                   'Z':25,'space':26,'del':27,'nothing':28}\n",
    "\n",
    "def load_data():\n",
    "    images_list = []\n",
    "    labels_list = []\n",
    "    size = (64,64)\n",
    "    \n",
    "    for folder in os.listdir(train_dir):\n",
    "        for imgfile in os.listdir(f'{train_dir}/{folder}'):\n",
    "            curr_img = cv2.imread(f'{train_dir}/{folder}/{imgfile}')\n",
    "            # resize image\n",
    "            curr_img = cv2.resize(curr_img, size)\n",
    "            # store into images and labels lists\n",
    "            images_list.append(curr_img)\n",
    "            labels_list.append(labels_dict[folder])\n",
    "\n",
    "    # make np array\n",
    "    images_arr = np.array(images_list)\n",
    "    # normalize values\n",
    "    images_arr = images_arr.astype('float32')/255.0\n",
    "    # one hot encode labels\n",
    "    labels_arr = keras.utils.to_categorical(labels_list)\n",
    "    # split into training and testing data\n",
    "    x_train, x_test, y_train, y_test = train_test_split(images_arr, labels_arr, test_size = 0.1)\n",
    "    \n",
    "    print(f'Loaded {len(x_train)} images for training')\n",
    "    print(f'Training data shape: {x_train.shape}')\n",
    "    print(f'Training labels shape: {y_train.shape}\\n')\n",
    "    print(f'Loaded {len(x_test)} images for testing')\n",
    "    print(f'Testing data shape: {x_test.shape}')\n",
    "    print(f'Testing labels shape: {y_test.shape}')\n",
    "    \n",
    "    return x_train, x_test, y_train, y_test"
   ]
  },
  {
   "cell_type": "code",
   "execution_count": null,
   "metadata": {},
   "outputs": [],
   "source": [
    "x_train, x_test, y_train, y_test = load_data()"
   ]
  },
  {
   "cell_type": "code",
   "execution_count": null,
   "metadata": {},
   "outputs": [],
   "source": [
    "y_test_int = np.argmax(y_test,axis=1)\n",
    "y_train_int = np.argmax(y_train,axis=1)"
   ]
  },
  {
   "cell_type": "code",
   "execution_count": null,
   "metadata": {},
   "outputs": [],
   "source": [
    "nsamples, nx, ny, rgb = x_train.shape\n",
    "new_x_train = x_train.reshape((nsamples, nx*ny*rgb))\n",
    "\n",
    "testsamples, tx, ty, trgb = x_test.shape\n",
    "new_x_test = x_test.reshape((testsamples, tx*ty*trgb))"
   ]
  },
  {
   "cell_type": "code",
   "execution_count": null,
   "metadata": {},
   "outputs": [],
   "source": [
    "#k-nearest neighbors\n",
    "neighbors = [5, 10, 20]\n",
    "for i in neighbors:\n",
    "    knn = KNeighborsClassifier(n_neighbors=i)\n",
    "    knn = knn.fit(new_x_train, y_train)\n",
    "    y_trainpred = knn.predict(new_x_train)\n",
    "    knntrain_int = np.argmax(y_trainpred,axis=1)\n",
    "    print(classification_report(y_train_int,knntrain_int,digits=4))\n",
    "\n",
    "    knntest = knn.predict(new_x_test)\n",
    "    knntest_int = np.argmax(knntest,axis=1)\n",
    "    print(classification_report(y_test_int,knntest_int,digits=4))\n"
   ]
  },
  {
   "cell_type": "code",
   "execution_count": null,
   "metadata": {},
   "outputs": [],
   "source": [
    "cm = confusion_matrix(y_test_int, knntest_int, range(0, 29))\n",
    "display = metrics.ConfusionMatrixDisplay(cm)\n",
    "fig, ax = plt.subplots(figsize=(15, 15))\n",
    "display.plot(ax=ax)"
   ]
  },
  {
   "cell_type": "code",
   "execution_count": null,
   "metadata": {},
   "outputs": [],
   "source": [
    "# Random Forest\n",
    "\n",
    "trees = [5, 10, 20]\n",
    "for i in trees:\n",
    "    rf = RandomForestClassifier(n_estimators=i)\n",
    "    rf = rf.fit(new_x_train, y_train)\n",
    "    rftrain = rf.predict(new_x_train)\n",
    "\n",
    "    rftrain_int = np.argmax(rftrain,axis=1)\n",
    "    print(classification_report(y_train_int,rftrain_int,digits=4))\n",
    "    \n",
    "    rftest = rf.predict(new_x_test)\n",
    "    rftest_int = np.argmax(rftest,axis=1)\n",
    "    print(classification_report(y_test_int,rftest_int,digits=4))"
   ]
  },
  {
   "cell_type": "code",
   "execution_count": null,
   "metadata": {},
   "outputs": [],
   "source": [
    "cm = confusion_matrix(y_test_int, rftest_int, range(0, 29))\n",
    "display = metrics.ConfusionMatrixDisplay(cm)\n",
    "fig, ax = plt.subplots(figsize=(15, 15))\n",
    "display.plot(ax=ax)"
   ]
  },
  {
   "cell_type": "code",
   "execution_count": null,
   "metadata": {},
   "outputs": [],
   "source": [
    "# Decision Tree with AdaBoost\n",
    "\n",
    "base = [5, 10, 20]\n",
    "for i in base:\n",
    "    model = DecisionTreeClassifier()\n",
    "    abc = AdaBoostClassifier(n_estimators=i, base_estimator=model) \n",
    "    abc = abc.fit(new_x_train, y_train_int)\n",
    "    abctrain = abc.predict(new_x_train)\n",
    "    \n",
    "    abctrain_int = np.argmax(abctrain,axis=1)\n",
    "    print(classification_report(y_train_int,abctrain,digits=4))\n",
    "\n",
    "    abctest = abc.predict(new_x_test)\n",
    "    print(classification_report(y_test_int,abctest,digits=4))"
   ]
  },
  {
   "cell_type": "code",
   "execution_count": null,
   "metadata": {},
   "outputs": [],
   "source": [
    "cm = confusion_matrix(y_test_int, abctest, range(0, 29))\n",
    "display = metrics.ConfusionMatrixDisplay(cm)\n",
    "fig, ax = plt.subplots(figsize=(15, 15))\n",
    "display.plot(ax=ax)"
   ]
  }
 ]
}